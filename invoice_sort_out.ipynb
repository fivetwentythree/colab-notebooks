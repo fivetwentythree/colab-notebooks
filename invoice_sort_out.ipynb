{
  "nbformat": 4,
  "nbformat_minor": 0,
  "metadata": {
    "colab": {
      "provenance": [],
      "authorship_tag": "ABX9TyNLmfeXTIjQW6eveSv8bdrQ",
      "include_colab_link": true
    },
    "kernelspec": {
      "name": "python3",
      "display_name": "Python 3"
    },
    "language_info": {
      "name": "python"
    }
  },
  "cells": [
    {
      "cell_type": "markdown",
      "metadata": {
        "id": "view-in-github",
        "colab_type": "text"
      },
      "source": [
        "<a href=\"https://colab.research.google.com/github/fivetwentythree/colab-notebooks/blob/main/invoice_sort_out.ipynb\" target=\"_parent\"><img src=\"https://colab.research.google.com/assets/colab-badge.svg\" alt=\"Open In Colab\"/></a>"
      ]
    },
    {
      "cell_type": "markdown",
      "source": [
        "This code works with a some heuristics, here is an explanation on what is happening here\n",
        "\n",
        "How the Heuristic Works\n",
        "Amount Match:\n",
        "\n",
        "First, filter transactions with the same Amount as the invoice.\n",
        "Date Tolerance:\n",
        "\n",
        "Among amount matches, select transactions where the Transaction Date is within a specified range (e.g., ±3 days of the Due Date).\n",
        "You can adjust the range via the date_tolerance_days parameter.\n",
        "Mark Invoice as Paid:\n",
        "\n",
        "If a match is found, update the invoice as Paid and link the transaction ID."
      ],
      "metadata": {
        "id": "72zrzqyC9p7D"
      }
    },
    {
      "cell_type": "code",
      "execution_count": null,
      "metadata": {
        "id": "0kYiiT6n9JpZ"
      },
      "outputs": [],
      "source": [
        "import pandas as pd\n",
        "from datetime import datetime, timedelta\n",
        "\n",
        "# Load invoice data\n",
        "invoice_file = \"invoices.csv\"\n",
        "invoices = pd.read_csv(invoice_file)\n",
        "\n",
        "# Load bank transactions\n",
        "transaction_file = \"transactions.csv\"\n",
        "transactions = pd.read_csv(transaction_file)\n",
        "\n",
        "# Convert necessary columns to consistent formats\n",
        "invoices['Amount'] = invoices['Amount'].astype(float)\n",
        "transactions['Amount'] = transactions['Amount'].astype(float)\n",
        "invoices['Due Date'] = pd.to_datetime(invoices['Due Date'])\n",
        "transactions['Date'] = pd.to_datetime(transactions['Date'])\n",
        "\n",
        "# Match invoices to transactions\n",
        "def reconcile_with_heuristic(invoices, transactions, date_tolerance_days=3):\n",
        "    # Add a Paid Status column to invoices if it doesn't exist\n",
        "    if 'Paid Status' not in invoices.columns:\n",
        "        invoices['Paid Status'] = 'Unpaid'\n",
        "\n",
        "    # Add a Matched Transaction column for clarity\n",
        "    invoices['Matched Transaction'] = None\n",
        "\n",
        "    for idx, invoice in invoices.iterrows():\n",
        "        # Find transactions matching by amount\n",
        "        amount_matches = transactions[transactions['Amount'] == invoice['Amount']]\n",
        "\n",
        "        if not amount_matches.empty:\n",
        "            # Narrow matches by date tolerance\n",
        "            for _, match in amount_matches.iterrows():\n",
        "                transaction_date = match['Date']\n",
        "                due_date = invoice['Due Date']\n",
        "\n",
        "                # Check if the transaction date is within the tolerance range of the due date\n",
        "                if abs((transaction_date - due_date).days) <= date_tolerance_days:\n",
        "                    # Mark the invoice as paid\n",
        "                    invoices.at[idx, 'Paid Status'] = 'Paid'\n",
        "                    invoices.at[idx, 'Matched Transaction'] = match['Transaction ID']\n",
        "\n",
        "                    # Remove the matched transaction from the pool to avoid duplicate matches\n",
        "                    transactions = transactions[transactions['Transaction ID'] != match['Transaction ID']]\n",
        "                    break\n",
        "\n",
        "    return invoices\n",
        "\n",
        "# Reconcile invoices with heuristic\n",
        "updated_invoices = reconcile_with_heuristic(invoices, transactions)\n",
        "\n",
        "# Save the updated invoices to a new file\n",
        "output_file = \"reconciled_invoices_with_heuristic.csv\"\n",
        "updated_invoices.to_csv(output_file, index=False)\n",
        "\n",
        "print(f\"Reconciliation complete with heuristic. Updated invoice file saved to {output_file}.\")\n"
      ]
    },
    {
      "cell_type": "markdown",
      "source": [
        "This is another alternative script which uses the fuzzywuzzy to further match the fields for better efficient sorting."
      ],
      "metadata": {
        "id": "ZUSLXiu2BCun"
      }
    },
    {
      "cell_type": "code",
      "source": [
        "import pandas as pd\n",
        "from fuzzywuzzy import fuzz\n",
        "from datetime import datetime, timedelta\n",
        "\n",
        "# Load invoice data\n",
        "invoice_file = \"invoices.csv\"\n",
        "invoices = pd.read_csv(invoice_file)\n",
        "\n",
        "# Load bank transactions\n",
        "transaction_file = \"transactions.csv\"\n",
        "transactions = pd.read_csv(transaction_file)\n",
        "\n",
        "# Convert necessary columns to consistent formats\n",
        "invoices['Amount'] = invoices['Amount'].astype(float)\n",
        "transactions['Amount'] = transactions['Amount'].astype(float)\n",
        "invoices['Due Date'] = pd.to_datetime(invoices['Due Date'])\n",
        "transactions['Date'] = pd.to_datetime(transactions['Date'])\n",
        "\n",
        "# Fuzzy Matching Threshold\n",
        "FUZZY_THRESHOLD = 80\n",
        "\n",
        "# Match invoices to transactions with fuzzy matching and heuristic\n",
        "def reconcile_with_fuzzy_matching(invoices, transactions, date_tolerance_days=3):\n",
        "    # Add a Paid Status column to invoices if it doesn't exist\n",
        "    if 'Paid Status' not in invoices.columns:\n",
        "        invoices['Paid Status'] = 'Unpaid'\n",
        "\n",
        "    # Add a Matched Transaction column for clarity\n",
        "    invoices['Matched Transaction'] = None\n",
        "\n",
        "    for idx, invoice in invoices.iterrows():\n",
        "        # Find transactions matching by amount\n",
        "        amount_matches = transactions[transactions['Amount'] == invoice['Amount']]\n",
        "\n",
        "        if not amount_matches.empty:\n",
        "            # Narrow matches by date tolerance\n",
        "            for _, match in amount_matches.iterrows():\n",
        "                transaction_date = match['Date']\n",
        "                due_date = invoice['Due Date']\n",
        "\n",
        "                # Check if the transaction date is within the tolerance range of the due date\n",
        "                if abs((transaction_date - due_date).days) <= date_tolerance_days:\n",
        "                    # Use fuzzy matching on the Description field for customer name or invoice ID\n",
        "                    description = str(match['Description']).lower()\n",
        "                    customer_name = str(invoice['Customer']).lower()\n",
        "                    similarity_score = fuzz.partial_ratio(customer_name, description)\n",
        "\n",
        "                    if similarity_score >= FUZZY_THRESHOLD:\n",
        "                        # Mark the invoice as paid\n",
        "                        invoices.at[idx, 'Paid Status'] = 'Paid'\n",
        "                        invoices.at[idx, 'Matched Transaction'] = match['Transaction ID']\n",
        "\n",
        "                        # Remove the matched transaction from the pool to avoid duplicate matches\n",
        "                        transactions = transactions[transactions['Transaction ID'] != match['Transaction ID']]\n",
        "                        break\n",
        "\n",
        "    return invoices\n",
        "\n",
        "# Reconcile invoices with fuzzy matching\n",
        "updated_invoices = reconcile_with_fuzzy_matching(invoices, transactions)\n",
        "\n",
        "# Save the updated invoices to a new file\n",
        "output_file = \"reconciled_invoices_with_fuzzy_matching.csv\"\n",
        "updated_invoices.to_csv(output_file, index=False)\n",
        "\n",
        "print(f\"Reconciliation complete with fuzzy matching. Updated invoice file saved to {output_file}.\")\n"
      ],
      "metadata": {
        "id": "bfKeXHLZBAFR"
      },
      "execution_count": null,
      "outputs": []
    },
    {
      "cell_type": "markdown",
      "source": [
        "Steps to Test the Enhanced Script\n",
        "Add Date Columns to Your CSV Files:\n",
        "\n",
        "For invoices.csv, ensure you include Due Date:"
      ],
      "metadata": {
        "id": "KO6AfnUp_00w"
      }
    },
    {
      "cell_type": "code",
      "source": [
        "Invoice ID,Customer,Amount,Due Date\n",
        "1001,John Doe,200.50,2024-11-30\n",
        "1002,Jane Smith,150.00,2024-11-30\n"
      ],
      "metadata": {
        "id": "9cn3Oyme_3S4"
      },
      "execution_count": null,
      "outputs": []
    },
    {
      "cell_type": "markdown",
      "source": [
        "For transactions.csv, ensure you include Date:"
      ],
      "metadata": {
        "id": "WU9_gwOME_Cj"
      }
    },
    {
      "cell_type": "code",
      "source": [
        "Transaction ID,Date,Description,Amount\n",
        "T001,2024-12-01,Payment from John Doe,200.50\n",
        "T002,2024-11-28,Payment,150.00\n"
      ],
      "metadata": {
        "id": "bh4gerk1_9bR"
      },
      "execution_count": null,
      "outputs": []
    },
    {
      "cell_type": "markdown",
      "source": [],
      "metadata": {
        "id": "zDnpJys0E_om"
      }
    }
  ]
}